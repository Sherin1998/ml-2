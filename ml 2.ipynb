{
 "cells": [
  {
   "cell_type": "code",
   "execution_count": null,
   "metadata": {},
   "outputs": [],
   "source": [
    "#1\n",
    "Human learning is a process of acquiring knowledge. Our behavior, skills, values and ethics are acquired when we process information through our minds and learn\n",
    "Learning is the process by which one acquires, ingests, and stores or accepts information. The main characteristic of learning that; it is a process of obtaining knowledge to change human behavior through interaction, practice, and experience.\n",
    "Eg 1. Learning to drive,toddler learning to walk,touching a hot pan "
   ]
  },
  {
   "cell_type": "code",
   "execution_count": null,
   "metadata": {},
   "outputs": [],
   "source": [
    "#2\n",
    "1.CONCEPT LEARNING,HEBBIAN LEARNING,OPERANT LEARNING\n",
    "Supervised learning is similar to concept learning  where a person is required to classify new objects into existing categories, by matching the features of the new objects to examples in the categories.Examples are Regression and classification.\n",
    "2.Unsupervised learning.he objective of the algorithm is to uncover any interesting patterns that it can find in the data, and new data will help to confirm or disconfirm these patterns that it finds. Some of the well-known examples of unsupervised learning include k-means clustering, principal component analysis and artificial neural networks.\n",
    "3.In reinforcement learning, there are “correct answers” but the input data is not paired with the desired outputs. The “correct answers” contain numerical rewards, which the algorithm needs to maximise by choosing the correct actions to take."
   ]
  },
  {
   "cell_type": "code",
   "execution_count": null,
   "metadata": {},
   "outputs": [],
   "source": [
    "#3\n",
    "Machine Learning is the ability to adapt to new data independently and through iterations. it is a core sub-area of Artificial Intelligence (AI). ML applications learn from experience (well data) like humans without direct programming. When exposed to new data, these applications learn, grow, change, and develop by themselves. In other words, with Machine Learning, computers find insightful information without being told where to look. Instead, they do this by leveraging algorithms that learn from data in an iterative process.\n",
    "Learn pattern from data.Identify target and features and based on requiremnets,it should do regression/classification"
   ]
  },
  {
   "cell_type": "code",
   "execution_count": null,
   "metadata": {},
   "outputs": [],
   "source": [
    "#4\n",
    "In reinforcement learning,the agent receives rewards by performing correctly and penalties for performing incorrectly. The agent learns without intervention from a human by maximizing its reward and minimizing its penalty.\n"
   ]
  },
  {
   "cell_type": "code",
   "execution_count": null,
   "metadata": {},
   "outputs": [],
   "source": [
    "#5\n",
    "It is the task of searching large space of hypothesis adn find best hypothesis that fits in with training samples"
   ]
  },
  {
   "cell_type": "code",
   "execution_count": null,
   "metadata": {},
   "outputs": [],
   "source": [
    "#6\n",
    "The primary purpose of machine learning is to discover patterns in the user data and then make predictions based on these and intricate patterns for answering business questions and solving business problems\n",
    "To make computers intelligent so that tasks can be automated making life easier.\n",
    "As humans make decisions based on past experience and common sense,similarly computers use data .\n"
   ]
  },
  {
   "cell_type": "code",
   "execution_count": null,
   "metadata": {},
   "outputs": [],
   "source": [
    "#7\n",
    "Representation: what the model looks like; how knowledge is represented.\n",
    "Evaluation: how good models are differentiated; how programs are evaluated.\n",
    "Optimization: the process for finding good models; how programs are generation."
   ]
  },
  {
   "cell_type": "code",
   "execution_count": null,
   "metadata": {},
   "outputs": [],
   "source": [
    "#8\n",
    "Abstraction is a simplification of the representation of a problem which enables that problem to be solved more efficiently (using less memory and/or less computation). Examples of data abstraction are:Reducing spatial/temporal resolution.\n",
    "Discretise continuous variables into important goal-oriented ranges.\n",
    "Classify patterns by discrete labels.\n",
    "Reduce dimensionality by projection onto a subspace."
   ]
  },
  {
   "cell_type": "code",
   "execution_count": null,
   "metadata": {},
   "outputs": [],
   "source": [
    "#9\n",
    "Generalization refers to your model's ability to adapt properly to new, previously unseen data, drawn from the same distribution as the one used to create the model. If you train a model too well on training data, it will be incapable of generalizing. In such cases, it will end up making erroneous predictions when it’s given new data. This would make the model ineffective even though it’s capable of making correct predictions for the training data set. This is known as overfitting. The inverse (underfitting) is also true, which happens when you train a model with inadequate data. In cases of underfitting, your model would fail to make accurate predictions even with the training data"
   ]
  },
  {
   "cell_type": "code",
   "execution_count": null,
   "metadata": {},
   "outputs": [],
   "source": [
    "#10\n",
    "Classification is a technique to classify it to different categories based on similar features.The objects on same class will have similar properties.Regression is the task of finding a numerical value as label.Classification is based on probability of occurance will regression is on plotting to the straight line.Regression cant be used for classification and vice versa"
   ]
  },
  {
   "cell_type": "code",
   "execution_count": null,
   "metadata": {},
   "outputs": [],
   "source": [
    "#11\n",
    "Medical researchers often use linear regression to understand the relationship between drug dosage and blood pressure of patients.\n",
    "Businesses often use linear regression to understand the relationship between advertising spending and revenue.\n",
    "Agricultural scientists often use linear regression to measure the effect of fertilizer and water on crop yields.\n",
    "\n"
   ]
  },
  {
   "cell_type": "code",
   "execution_count": null,
   "metadata": {},
   "outputs": [],
   "source": [
    "#13\n",
    "Clustering is an unsupervised learning technique having the task of dividing the population or data points into a number of groups such that data points in the same groups are more similar to other data points in the same group than those in other groups. In simple words, the aim is to segregate groups with similar traits and assign them into clusters.The data points in the graph below clustered together can be classified into one single group.\n",
    "2 types of clustering Methods- Density-Based Methods, Hierarchical Based Methods."
   ]
  },
  {
   "cell_type": "code",
   "execution_count": null,
   "metadata": {},
   "outputs": [],
   "source": [
    "#14\n",
    "2. Supervised learning s used when the target value is known.Supervised learning, as the name indicates, has the presence of a supervisor as a teacher. Basically supervised learning is when we teach or train the machine using data that is well labelled. Which means some data is already tagged with the correct answer. After that, the machine is provided with a new set of examples(data) so that the supervised learning algorithm analyses the training data(set of training examples) and produces a correct outcome from labelled data.\n",
    "   supervised learning is classified into - Regression,Classification\n",
    "3. Unsupervised learning is the training of a machine using information that is neither classified nor labeled and allowing the algorithm to act on that information without guidance. Here the task of the machine is to group unsorted information according to similarities, patterns, and differences without any prior training of data. \n",
    "    Unlike supervised learning, no teacher is provided that means no training will be given to the machine. Therefore the machine is restricted to find the hidden structure in unlabeled data by itself. \n",
    "    Model discovers its own patterns and make decision.\n",
    "    Used in clustering,Association "
   ]
  }
 ],
 "metadata": {
  "kernelspec": {
   "display_name": "Python 3",
   "language": "python",
   "name": "python3"
  },
  "language_info": {
   "codemirror_mode": {
    "name": "ipython",
    "version": 3
   },
   "file_extension": ".py",
   "mimetype": "text/x-python",
   "name": "python",
   "nbconvert_exporter": "python",
   "pygments_lexer": "ipython3",
   "version": "3.8.3"
  }
 },
 "nbformat": 4,
 "nbformat_minor": 4
}
